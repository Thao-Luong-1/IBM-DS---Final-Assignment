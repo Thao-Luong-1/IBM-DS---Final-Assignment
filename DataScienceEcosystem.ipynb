{
 "cells": [
  {
   "cell_type": "markdown",
   "id": "70f929e2-c6bc-44bf-bd54-1ffc083ab35e",
   "metadata": {},
   "source": [
    "# Data Science Tools and Ecosystem"
   ]
  },
  {
   "cell_type": "markdown",
   "id": "e8235b13-972e-4512-b21e-e2d89fcafda8",
   "metadata": {},
   "source": [
    "In this notebook, Data Science Tools and Ecosystem are summarized."
   ]
  },
  {
   "cell_type": "markdown",
   "id": "032b40ac-d714-4834-8715-3be6be108719",
   "metadata": {},
   "source": [
    "Some of the popular languages that Data Scientists use are:\n",
    "1. Python\n",
    "2. R\n",
    "3. SQL\n",
    "4. Julia\n",
    "5. Scala"
   ]
  },
  {
   "cell_type": "markdown",
   "id": "7937c8f1-64d1-4664-8ae8-d8cb2da22305",
   "metadata": {},
   "source": [
    "Some of the commonly used libraries used by Data Scientists include:\n",
    "1. pandas\n",
    "2. numpy\n",
    "3. sklearn\n",
    "4. scikit\n",
    "5. ggplot\n",
    "6. lattice\n",
    "7. matplotlib"
   ]
  },
  {
   "cell_type": "markdown",
   "id": "7bbad8b6-2806-41a0-9035-b7aaab566933",
   "metadata": {},
   "source": [
    "|Data Science Tools||\n",
    "|-|----------------|\n",
    "|1|Jupyter Notebook|\n",
    "|2|RStudio|\n",
    "|3|Git|"
   ]
  },
  {
   "cell_type": "markdown",
   "id": "ef1267e0-f7f1-4f75-b5bf-7c403a7035ef",
   "metadata": {},
   "source": [
    "### Below are a few examples of evaluating arithmetic expressions in Python"
   ]
  },
  {
   "cell_type": "code",
   "execution_count": 3,
   "id": "a7f6cc2c-7fc1-4259-b5f0-d2c21cc02348",
   "metadata": {},
   "outputs": [
    {
     "data": {
      "text/plain": [
       "17"
      ]
     },
     "execution_count": 3,
     "metadata": {},
     "output_type": "execute_result"
    }
   ],
   "source": [
    "# This a simple arithmetic expression to mutiply then add integers\n",
    "(3*4)+5"
   ]
  },
  {
   "cell_type": "code",
   "execution_count": 4,
   "id": "d000a0f0-9eaa-47b7-8926-23020c0a85e8",
   "metadata": {},
   "outputs": [
    {
     "data": {
      "text/plain": [
       "3.3333333333333335"
      ]
     },
     "execution_count": 4,
     "metadata": {},
     "output_type": "execute_result"
    }
   ],
   "source": [
    "# This will convert 200 minutes to hours by diving by 60\n",
    "m = 200 \n",
    "h = m/60\n",
    "h "
   ]
  },
  {
   "cell_type": "markdown",
   "id": "766b644e-11f9-4f19-9d28-401200ec6a07",
   "metadata": {},
   "source": [
    "**Objectives:**"
   ]
  },
  {
   "cell_type": "markdown",
   "id": "fb84b12e-91e2-42ca-a764-629c0a8bc271",
   "metadata": {},
   "source": [
    "- List popular languages for Data Science\n",
    "- List popular libraries for Data Science\n",
    "- List popular development environment open-source tools for Data Science\n",
    "- Give examples of evaluating arithmetic expressions in Python "
   ]
  },
  {
   "cell_type": "markdown",
   "id": "f4150e99-21ea-481d-9472-5f7c939238b0",
   "metadata": {},
   "source": [
    "## Author \n",
    "Thao Luong "
   ]
  }
 ],
 "metadata": {
  "kernelspec": {
   "display_name": "Python 3 (ipykernel)",
   "language": "python",
   "name": "python3"
  },
  "language_info": {
   "codemirror_mode": {
    "name": "ipython",
    "version": 3
   },
   "file_extension": ".py",
   "mimetype": "text/x-python",
   "name": "python",
   "nbconvert_exporter": "python",
   "pygments_lexer": "ipython3",
   "version": "3.11.7"
  }
 },
 "nbformat": 4,
 "nbformat_minor": 5
}
